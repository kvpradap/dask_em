{
 "cells": [
  {
   "cell_type": "code",
   "execution_count": 1,
   "metadata": {
    "collapsed": true
   },
   "outputs": [],
   "source": [
    "import dask\n",
    "import dask.dataframe as dd\n",
    "from dask import delayed"
   ]
  },
  {
   "cell_type": "code",
   "execution_count": 2,
   "metadata": {
    "collapsed": true
   },
   "outputs": [],
   "source": [
    "import sys\n",
    "sys.path.append('/Users/pradap/Documents/Research/Python-Package/scaling/dask_em')"
   ]
  },
  {
   "cell_type": "code",
   "execution_count": 3,
   "metadata": {
    "collapsed": true
   },
   "outputs": [],
   "source": [
    "import string\n",
    "\n",
    "import pandas as pd\n",
    "from dask import threaded, delayed\n",
    "from dask_em.sampler.downsample.dsprober import DownSampleProber\n",
    "\n",
    "from dask_em.utils.cy_utils.stringcontainer import StringContainer\n",
    "from dask_em.utils.py_utils.utils import get_str_cols, str2bytes, sample, split_df, \\\n",
    "    tokenize_strings_wsp, build_inv_index\n"
   ]
  },
  {
   "cell_type": "code",
   "execution_count": 4,
   "metadata": {
    "collapsed": true
   },
   "outputs": [],
   "source": [
    "def preprocess_table(dataframe, idcol):\n",
    "    strcols = list(get_str_cols(dataframe))\n",
    "    strcols.append(idcol)\n",
    "    projdf = dataframe[strcols]\n",
    "    objsc = StringContainer()\n",
    "    for row in projdf.itertuples():\n",
    "        colvalues = row[1:-1]\n",
    "        uid = row[-1]\n",
    "        strings = [colvalue.strip() for colvalue in colvalues if not pd.isnull(colvalue)]\n",
    "        concat_row = str2bytes(' '.join(strings).lower())\n",
    "        concat_row = concat_row.translate(None, string.punctuation)\n",
    "        objsc.push_back(uid, concat_row)\n",
    "    return objsc\n",
    "\n",
    "def probe(objtc, objinvindex, yparam):\n",
    "    objprobe = DownSampleProber()\n",
    "    objprobe.probe(objtc, objinvindex, yparam)\n",
    "    return objprobe\n",
    "\n",
    "# @delayed(nout=2)\n",
    "def lpostprocess(result_list):\n",
    "    lids = set()\n",
    "#     rids = set()\n",
    "    for i in range(len(result_list)):\n",
    "        result = result_list[i]\n",
    "        lids.update(result.get_lids())\n",
    "#         rids.update(result.get_rids())\n",
    "    lids = sorted(lids)\n",
    "#     rids = sorted(rids)\n",
    "    return lids\n",
    "\n",
    "def rpostprocess(result_list):\n",
    "#     lids = set()\n",
    "    rids = set()\n",
    "    for i in range(len(result_list)):\n",
    "        result = result_list[i]\n",
    "#         lids.update(result.get_lids())\n",
    "        rids.update(result.get_rids())\n",
    "#     lids = sorted(lids)\n",
    "    rids = sorted(rids)\n",
    "    return rids\n",
    "\n",
    "\n",
    "def select(table, ids):\n",
    "    return table.loc[ids]\n"
   ]
  },
  {
   "cell_type": "code",
   "execution_count": 5,
   "metadata": {
    "collapsed": true
   },
   "outputs": [],
   "source": [
    "path = '../datasets/'"
   ]
  },
  {
   "cell_type": "code",
   "execution_count": 6,
   "metadata": {},
   "outputs": [
    {
     "data": {
      "text/html": [
       "<div><strong>Dask DataFrame Structure:</strong></div>\n",
       "<div>\n",
       "<style>\n",
       "    .dataframe thead tr:only-child th {\n",
       "        text-align: right;\n",
       "    }\n",
       "\n",
       "    .dataframe thead th {\n",
       "        text-align: left;\n",
       "    }\n",
       "\n",
       "    .dataframe tbody tr th {\n",
       "        vertical-align: top;\n",
       "    }\n",
       "</style>\n",
       "<table border=\"1\" class=\"dataframe\">\n",
       "  <thead>\n",
       "    <tr style=\"text-align: right;\">\n",
       "      <th></th>\n",
       "      <th>id</th>\n",
       "      <th>title</th>\n",
       "      <th>release</th>\n",
       "      <th>artist_name</th>\n",
       "      <th>duration</th>\n",
       "      <th>artist_familiarity</th>\n",
       "      <th>artist_hotttnesss</th>\n",
       "      <th>year</th>\n",
       "    </tr>\n",
       "    <tr>\n",
       "      <th>npartitions=2</th>\n",
       "      <th></th>\n",
       "      <th></th>\n",
       "      <th></th>\n",
       "      <th></th>\n",
       "      <th></th>\n",
       "      <th></th>\n",
       "      <th></th>\n",
       "      <th></th>\n",
       "    </tr>\n",
       "  </thead>\n",
       "  <tbody>\n",
       "    <tr>\n",
       "      <th>1</th>\n",
       "      <td>int64</td>\n",
       "      <td>object</td>\n",
       "      <td>object</td>\n",
       "      <td>object</td>\n",
       "      <td>float64</td>\n",
       "      <td>float64</td>\n",
       "      <td>float64</td>\n",
       "      <td>int64</td>\n",
       "    </tr>\n",
       "    <tr>\n",
       "      <th>608399</th>\n",
       "      <td>...</td>\n",
       "      <td>...</td>\n",
       "      <td>...</td>\n",
       "      <td>...</td>\n",
       "      <td>...</td>\n",
       "      <td>...</td>\n",
       "      <td>...</td>\n",
       "      <td>...</td>\n",
       "    </tr>\n",
       "    <tr>\n",
       "      <th>1000000</th>\n",
       "      <td>...</td>\n",
       "      <td>...</td>\n",
       "      <td>...</td>\n",
       "      <td>...</td>\n",
       "      <td>...</td>\n",
       "      <td>...</td>\n",
       "      <td>...</td>\n",
       "      <td>...</td>\n",
       "    </tr>\n",
       "  </tbody>\n",
       "</table>\n",
       "</div>\n",
       "<div>Dask Name: sort_index, 10 tasks</div>"
      ],
      "text/plain": [
       "Dask DataFrame Structure:\n",
       "                  id   title release artist_name duration artist_familiarity artist_hotttnesss   year\n",
       "npartitions=2                                                                                        \n",
       "1              int64  object  object      object  float64            float64           float64  int64\n",
       "608399           ...     ...     ...         ...      ...                ...               ...    ...\n",
       "1000000          ...     ...     ...         ...      ...                ...               ...    ...\n",
       "Dask Name: sort_index, 10 tasks"
      ]
     },
     "execution_count": 6,
     "metadata": {},
     "output_type": "execute_result"
    }
   ],
   "source": [
    "A = dd.read_csv(path+'msd.csv')\n",
    "B = dd.read_csv(path+'msd.csv')\n",
    "A.set_index('id', drop=False)\n",
    "B.set_index('id', drop=False)"
   ]
  },
  {
   "cell_type": "code",
   "execution_count": 7,
   "metadata": {
    "collapsed": true
   },
   "outputs": [],
   "source": [
    "vals = [(0, '', '', '', 0.0, 0.0, 0.0, 1)]\n",
    "cols=[u'id', u'title', u'release', u'artist_name', u'duration',u'artist_familiarity', u'artist_hotttnesss', u'year']\n",
    "meta = pd.DataFrame(vals, columns=cols)"
   ]
  },
  {
   "cell_type": "code",
   "execution_count": 14,
   "metadata": {},
   "outputs": [
    {
     "data": {
      "text/plain": [
       "dtype('int64')"
      ]
     },
     "execution_count": 14,
     "metadata": {},
     "output_type": "execute_result"
    }
   ],
   "source": [
    "A['id'].dtype"
   ]
  },
  {
   "cell_type": "code",
   "execution_count": 15,
   "metadata": {},
   "outputs": [
    {
     "data": {
      "text/plain": [
       "id                      int64\n",
       "title                  object\n",
       "release                object\n",
       "artist_name            object\n",
       "duration              float64\n",
       "artist_familiarity    float64\n",
       "artist_hotttnesss     float64\n",
       "year                    int64\n",
       "dtype: object"
      ]
     },
     "execution_count": 15,
     "metadata": {},
     "output_type": "execute_result"
    }
   ],
   "source": [
    "A.dtypes"
   ]
  },
  {
   "cell_type": "code",
   "execution_count": 19,
   "metadata": {},
   "outputs": [],
   "source": [
    "vals = []\n",
    "cols = []\n",
    "for col in A.columns:\n",
    "    if A[col].dtype == 'int64':\n",
    "        vals.append(0)\n",
    "    elif A[col].dtype == 'float64':\n",
    "        vals.append(0.0)\n",
    "    elif A[col].dtype == 'bool':\n",
    "        vals.append(False)\n",
    "    elif A[col].dtype == 'object':\n",
    "        vals.append('')\n",
    "    else:\n",
    "        raise ValueError(col)\n",
    "result = [tuple(vals)]\n",
    "meta = pd.DataFrame(result, columns=list(A.columns))\n",
    "\n",
    "        \n",
    "    \n",
    "    "
   ]
  },
  {
   "cell_type": "code",
   "execution_count": 20,
   "metadata": {},
   "outputs": [
    {
     "data": {
      "text/html": [
       "<div>\n",
       "<style>\n",
       "    .dataframe thead tr:only-child th {\n",
       "        text-align: right;\n",
       "    }\n",
       "\n",
       "    .dataframe thead th {\n",
       "        text-align: left;\n",
       "    }\n",
       "\n",
       "    .dataframe tbody tr th {\n",
       "        vertical-align: top;\n",
       "    }\n",
       "</style>\n",
       "<table border=\"1\" class=\"dataframe\">\n",
       "  <thead>\n",
       "    <tr style=\"text-align: right;\">\n",
       "      <th></th>\n",
       "      <th>id</th>\n",
       "      <th>title</th>\n",
       "      <th>release</th>\n",
       "      <th>artist_name</th>\n",
       "      <th>duration</th>\n",
       "      <th>artist_familiarity</th>\n",
       "      <th>artist_hotttnesss</th>\n",
       "      <th>year</th>\n",
       "    </tr>\n",
       "  </thead>\n",
       "  <tbody>\n",
       "    <tr>\n",
       "      <th>0</th>\n",
       "      <td>0</td>\n",
       "      <td></td>\n",
       "      <td></td>\n",
       "      <td></td>\n",
       "      <td>0.0</td>\n",
       "      <td>0.0</td>\n",
       "      <td>0.0</td>\n",
       "      <td>0</td>\n",
       "    </tr>\n",
       "  </tbody>\n",
       "</table>\n",
       "</div>"
      ],
      "text/plain": [
       "   id title release artist_name  duration  artist_familiarity  \\\n",
       "0   0                                 0.0                 0.0   \n",
       "\n",
       "   artist_hotttnesss  year  \n",
       "0                0.0     0  "
      ]
     },
     "execution_count": 20,
     "metadata": {},
     "output_type": "execute_result"
    }
   ],
   "source": [
    "meta"
   ]
  },
  {
   "cell_type": "code",
   "execution_count": null,
   "metadata": {
    "collapsed": true
   },
   "outputs": [],
   "source": [
    "def get_meta(table):\n",
    "    for "
   ]
  },
  {
   "cell_type": "code",
   "execution_count": 19,
   "metadata": {
    "collapsed": true
   },
   "outputs": [],
   "source": [
    "lid = 'id'\n",
    "rid = 'id'\n",
    "lstopwords = ['the', 'of', 'in', 'and', 'version', 'and', 'to', 'you', 'i', 'love', 'me', 'album', 'live', 'my', 'on', 'for', 'de', 'it', 'best', 'is', 'la', 'vol', 'from', 'no', 'your', 'all']\n",
    "\n",
    "rstopwords = lstopwords\n",
    "stopwords = ['a', 'an', 'and', 'are', 'as', 'at', 'be', 'by', 'for', 'from', 'has', 'he', 'in', 'is', 'it', 'its', 'on', 'that', 'the', 'to', 'of', 'was', 'were', 'will', 'with']\n",
    "\n",
    "# stopwords\n",
    "\n",
    "\n",
    "lstopwords = lstopwords + stopwords\n",
    "rstopwords = rstopwords + stopwords\n",
    "\n",
    "ltokens = []\n",
    "for i in range(A.npartitions):\n",
    "    lcat_strings = (delayed)(preprocess_table)(A.get_partition(i), lid)\n",
    "    tokens = (delayed)(tokenize_strings_wsp)(lcat_strings, lstopwords)\n",
    "    ltokens.append(tokens)\n",
    "\n",
    "    \n",
    "    \n",
    "invindex = (delayed)(build_inv_index)(ltokens)\n",
    "rsample = B.sample(0.1, random_state=0)\n",
    "\n",
    "probe_rslts = []\n",
    "y = 1\n",
    "for i in range(rsample.npartitions):\n",
    "    rcat_strings = (delayed)(preprocess_table)(rsample.get_partition(i), rid)\n",
    "    rtokens = (delayed)(tokenize_strings_wsp)(rcat_strings, rstopwords)\n",
    "    probe_rslt = (delayed)(probe)(rtokens, invindex, y)\n",
    "    probe_rslts.append(probe_rslt)\n",
    "\n",
    "lresult = (delayed)(lpostprocess)(probe_rslts)\n",
    "rresult = (delayed)(rpostprocess)(probe_rslts)\n",
    "\n",
    "resA = []\n",
    "for i in range(A.npartitions):\n",
    "    tmp = (delayed)(select)(A.get_partition(i), lresult)\n",
    "    resA.append(tmp)\n",
    "A1 = dd.from_delayed(resA, meta=meta)\n",
    "\n",
    "resB = []\n",
    "for i in range(rsample.npartitions):\n",
    "    tmp = (delayed)(select)(rsample.get_partition(i), rresult)\n",
    "    resB.append(tmp)\n",
    "B1 = dd.from_delayed(resB, meta=meta)\n",
    "\n",
    "\n",
    "    \n",
    "# A1 = delayed(select)(A, lresult, meta)\n",
    "# B1 = delayed(select)(rsample, rresult, meta)\n",
    "# B1 = rsample.map_partitions(lambda x: x[x.index.isin(rresult)], meta = meta) \n"
   ]
  },
  {
   "cell_type": "code",
   "execution_count": 77,
   "metadata": {
    "collapsed": true
   },
   "outputs": [],
   "source": [
    "# !mkdir s1\n",
    "# !mkdir s2"
   ]
  },
  {
   "cell_type": "code",
   "execution_count": 16,
   "metadata": {
    "collapsed": true
   },
   "outputs": [],
   "source": [
    "from dask.diagnostics import *"
   ]
  },
  {
   "cell_type": "code",
   "execution_count": 21,
   "metadata": {
    "collapsed": true
   },
   "outputs": [],
   "source": [
    "with Profiler() as prof, ResourceProfiler(dt=0.25) as rprof, CacheProfiler() as cprof: \n",
    "    len(rsample), len(A1), len(B1)"
   ]
  },
  {
   "cell_type": "code",
   "execution_count": 22,
   "metadata": {},
   "outputs": [
    {
     "data": {
      "text/html": [
       "<div style=\"display: table;\"><div style=\"display: table-row;\"><div style=\"display: table-cell;\"><b title=\"bokeh.models.layouts.Column\">Column</b>(</div><div style=\"display: table-cell;\">id&nbsp;=&nbsp;'4d0bfd97-26c7-4709-8e0b-9a6157433b7e', <span id=\"5f23ed29-3539-4342-961a-118b01410066\" style=\"cursor: pointer;\">&hellip;)</span></div></div><div class=\"1f72fef4-25bd-4d58-9415-a41e69a44a00\" style=\"display: none;\"><div style=\"display: table-cell;\"></div><div style=\"display: table-cell;\">children&nbsp;=&nbsp;[ToolbarBox(id='04755ad3-166b-4eaa-8856-53edc2fc301b', ...), Column(id='2074103c-838f-4e79-a6cc-3f32d91ec873', ...)],</div></div><div class=\"1f72fef4-25bd-4d58-9415-a41e69a44a00\" style=\"display: none;\"><div style=\"display: table-cell;\"></div><div style=\"display: table-cell;\">css_classes&nbsp;=&nbsp;None,</div></div><div class=\"1f72fef4-25bd-4d58-9415-a41e69a44a00\" style=\"display: none;\"><div style=\"display: table-cell;\"></div><div style=\"display: table-cell;\">disabled&nbsp;=&nbsp;False,</div></div><div class=\"1f72fef4-25bd-4d58-9415-a41e69a44a00\" style=\"display: none;\"><div style=\"display: table-cell;\"></div><div style=\"display: table-cell;\">height&nbsp;=&nbsp;None,</div></div><div class=\"1f72fef4-25bd-4d58-9415-a41e69a44a00\" style=\"display: none;\"><div style=\"display: table-cell;\"></div><div style=\"display: table-cell;\">js_event_callbacks&nbsp;=&nbsp;{},</div></div><div class=\"1f72fef4-25bd-4d58-9415-a41e69a44a00\" style=\"display: none;\"><div style=\"display: table-cell;\"></div><div style=\"display: table-cell;\">js_property_callbacks&nbsp;=&nbsp;{},</div></div><div class=\"1f72fef4-25bd-4d58-9415-a41e69a44a00\" style=\"display: none;\"><div style=\"display: table-cell;\"></div><div style=\"display: table-cell;\">name&nbsp;=&nbsp;None,</div></div><div class=\"1f72fef4-25bd-4d58-9415-a41e69a44a00\" style=\"display: none;\"><div style=\"display: table-cell;\"></div><div style=\"display: table-cell;\">sizing_mode&nbsp;=&nbsp;'fixed',</div></div><div class=\"1f72fef4-25bd-4d58-9415-a41e69a44a00\" style=\"display: none;\"><div style=\"display: table-cell;\"></div><div style=\"display: table-cell;\">subscribed_events&nbsp;=&nbsp;[],</div></div><div class=\"1f72fef4-25bd-4d58-9415-a41e69a44a00\" style=\"display: none;\"><div style=\"display: table-cell;\"></div><div style=\"display: table-cell;\">tags&nbsp;=&nbsp;[],</div></div><div class=\"1f72fef4-25bd-4d58-9415-a41e69a44a00\" style=\"display: none;\"><div style=\"display: table-cell;\"></div><div style=\"display: table-cell;\">width&nbsp;=&nbsp;None)</div></div></div>\n",
       "<script>\n",
       "(function() {\n",
       "  var expanded = false;\n",
       "  var ellipsis = document.getElementById(\"5f23ed29-3539-4342-961a-118b01410066\");\n",
       "  ellipsis.addEventListener(\"click\", function() {\n",
       "    var rows = document.getElementsByClassName(\"1f72fef4-25bd-4d58-9415-a41e69a44a00\");\n",
       "    for (var i = 0; i < rows.length; i++) {\n",
       "      var el = rows[i];\n",
       "      el.style.display = expanded ? \"none\" : \"table-row\";\n",
       "    }\n",
       "    ellipsis.innerHTML = expanded ? \"&hellip;)\" : \"&lsaquo;&lsaquo;&lsaquo;\";\n",
       "    expanded = !expanded;\n",
       "  });\n",
       "})();\n",
       "</script>\n"
      ],
      "text/plain": [
       "Column(id='4d0bfd97-26c7-4709-8e0b-9a6157433b7e', ...)"
      ]
     },
     "execution_count": 22,
     "metadata": {},
     "output_type": "execute_result"
    }
   ],
   "source": [
    "visualize([prof, rprof, cprof])"
   ]
  },
  {
   "cell_type": "code",
   "execution_count": 63,
   "metadata": {},
   "outputs": [
    {
     "data": {
      "text/plain": [
       "Delayed('head-3cb94cc6-40a3-4176-9e55-7cdf39e3b795')"
      ]
     },
     "execution_count": 63,
     "metadata": {},
     "output_type": "execute_result"
    }
   ],
   "source": [
    "A1.head()"
   ]
  },
  {
   "cell_type": "code",
   "execution_count": 31,
   "metadata": {},
   "outputs": [
    {
     "ename": "SyntaxError",
     "evalue": "invalid syntax (<ipython-input-31-d1fc8db7b247>, line 1)",
     "output_type": "error",
     "traceback": [
      "\u001b[0;36m  File \u001b[0;32m\"<ipython-input-31-d1fc8db7b247>\"\u001b[0;36m, line \u001b[0;32m1\u001b[0m\n\u001b[0;31m    [1:4]\u001b[0m\n\u001b[0m      ^\u001b[0m\n\u001b[0;31mSyntaxError\u001b[0m\u001b[0;31m:\u001b[0m invalid syntax\n"
     ]
    }
   ],
   "source": []
  },
  {
   "cell_type": "code",
   "execution_count": 55,
   "metadata": {
    "collapsed": true
   },
   "outputs": [],
   "source": [
    "l = [1, 2, 3, 4, 5, 7, 8, 10, 12, 35, 46]"
   ]
  },
  {
   "cell_type": "code",
   "execution_count": 50,
   "metadata": {
    "collapsed": true
   },
   "outputs": [],
   "source": [
    "C = A.set_index('id', drop=False)"
   ]
  },
  {
   "cell_type": "code",
   "execution_count": 59,
   "metadata": {},
   "outputs": [
    {
     "data": {
      "text/plain": [
       "Index([u'id', u'title', u'release', u'artist_name', u'duration',\n",
       "       u'artist_familiarity', u'artist_hotttnesss', u'year'],\n",
       "      dtype='object')"
      ]
     },
     "execution_count": 59,
     "metadata": {},
     "output_type": "execute_result"
    }
   ],
   "source": [
    "C.columns"
   ]
  },
  {
   "cell_type": "code",
   "execution_count": null,
   "metadata": {
    "collapsed": true
   },
   "outputs": [],
   "source": [
    "import pandas as pd"
   ]
  },
  {
   "cell_type": "code",
   "execution_count": 68,
   "metadata": {},
   "outputs": [
    {
     "data": {
      "text/html": [
       "<div>\n",
       "<style>\n",
       "    .dataframe thead tr:only-child th {\n",
       "        text-align: right;\n",
       "    }\n",
       "\n",
       "    .dataframe thead th {\n",
       "        text-align: left;\n",
       "    }\n",
       "\n",
       "    .dataframe tbody tr th {\n",
       "        vertical-align: top;\n",
       "    }\n",
       "</style>\n",
       "<table border=\"1\" class=\"dataframe\">\n",
       "  <thead>\n",
       "    <tr style=\"text-align: right;\">\n",
       "      <th></th>\n",
       "      <th>h</th>\n",
       "    </tr>\n",
       "  </thead>\n",
       "  <tbody>\n",
       "    <tr>\n",
       "      <th>0</th>\n",
       "      <td>1</td>\n",
       "    </tr>\n",
       "    <tr>\n",
       "      <th>1</th>\n",
       "      <td>2</td>\n",
       "    </tr>\n",
       "    <tr>\n",
       "      <th>2</th>\n",
       "      <td>3</td>\n",
       "    </tr>\n",
       "  </tbody>\n",
       "</table>\n",
       "</div>"
      ],
      "text/plain": [
       "   h\n",
       "0  1\n",
       "1  2\n",
       "2  3"
      ]
     },
     "execution_count": 68,
     "metadata": {},
     "output_type": "execute_result"
    }
   ],
   "source": [
    "pd.DataFrame("
   ]
  },
  {
   "cell_type": "code",
   "execution_count": 75,
   "metadata": {
    "collapsed": true
   },
   "outputs": [],
   "source": [
    "vals = [(0, '', '', '', 0.0, 0.0, 0.0, 1)]\n",
    "cols=[u'id', u'title', u'release', u'artist_name', u'duration',u'artist_familiarity', u'artist_hotttnesss', u'year']"
   ]
  },
  {
   "cell_type": "code",
   "execution_count": 77,
   "metadata": {
    "collapsed": true
   },
   "outputs": [],
   "source": [
    "meta=pd.DataFrame(vals, columns=cols)"
   ]
  },
  {
   "cell_type": "code",
   "execution_count": 78,
   "metadata": {
    "collapsed": true
   },
   "outputs": [],
   "source": [
    "X = C.map_partitions(lambda x: x[x.index.isin(l)], meta = meta)"
   ]
  },
  {
   "cell_type": "code",
   "execution_count": 80,
   "metadata": {},
   "outputs": [
    {
     "data": {
      "text/html": [
       "<div>\n",
       "<style>\n",
       "    .dataframe thead tr:only-child th {\n",
       "        text-align: right;\n",
       "    }\n",
       "\n",
       "    .dataframe thead th {\n",
       "        text-align: left;\n",
       "    }\n",
       "\n",
       "    .dataframe tbody tr th {\n",
       "        vertical-align: top;\n",
       "    }\n",
       "</style>\n",
       "<table border=\"1\" class=\"dataframe\">\n",
       "  <thead>\n",
       "    <tr style=\"text-align: right;\">\n",
       "      <th></th>\n",
       "      <th>id</th>\n",
       "      <th>title</th>\n",
       "      <th>release</th>\n",
       "      <th>artist_name</th>\n",
       "      <th>duration</th>\n",
       "      <th>artist_familiarity</th>\n",
       "      <th>artist_hotttnesss</th>\n",
       "      <th>year</th>\n",
       "    </tr>\n",
       "    <tr>\n",
       "      <th>id</th>\n",
       "      <th></th>\n",
       "      <th></th>\n",
       "      <th></th>\n",
       "      <th></th>\n",
       "      <th></th>\n",
       "      <th></th>\n",
       "      <th></th>\n",
       "      <th></th>\n",
       "    </tr>\n",
       "  </thead>\n",
       "  <tbody>\n",
       "    <tr>\n",
       "      <th>1</th>\n",
       "      <td>1</td>\n",
       "      <td>Silent Night</td>\n",
       "      <td>Monster Ballads X-Mas</td>\n",
       "      <td>Faster Pussy cat</td>\n",
       "      <td>252.05506</td>\n",
       "      <td>0.649822</td>\n",
       "      <td>0.394032</td>\n",
       "      <td>2003</td>\n",
       "    </tr>\n",
       "    <tr>\n",
       "      <th>2</th>\n",
       "      <td>2</td>\n",
       "      <td>Tanssi vaan</td>\n",
       "      <td>Karkuteillä</td>\n",
       "      <td>Karkkiautomaatti</td>\n",
       "      <td>156.55138</td>\n",
       "      <td>0.439604</td>\n",
       "      <td>0.356992</td>\n",
       "      <td>1995</td>\n",
       "    </tr>\n",
       "    <tr>\n",
       "      <th>3</th>\n",
       "      <td>3</td>\n",
       "      <td>No One Could Ever</td>\n",
       "      <td>Butter</td>\n",
       "      <td>Hudson Mohawke</td>\n",
       "      <td>138.97098</td>\n",
       "      <td>0.643681</td>\n",
       "      <td>0.437504</td>\n",
       "      <td>2006</td>\n",
       "    </tr>\n",
       "    <tr>\n",
       "      <th>4</th>\n",
       "      <td>4</td>\n",
       "      <td>Si Vos Querés</td>\n",
       "      <td>De Culo</td>\n",
       "      <td>Yerba Brava</td>\n",
       "      <td>145.05751</td>\n",
       "      <td>0.448501</td>\n",
       "      <td>0.372349</td>\n",
       "      <td>2003</td>\n",
       "    </tr>\n",
       "    <tr>\n",
       "      <th>5</th>\n",
       "      <td>5</td>\n",
       "      <td>Tangle Of Aspens</td>\n",
       "      <td>Rene Ablaze Presents Winter Sessions</td>\n",
       "      <td>Der Mystic</td>\n",
       "      <td>514.29832</td>\n",
       "      <td>0.000000</td>\n",
       "      <td>0.000000</td>\n",
       "      <td>0</td>\n",
       "    </tr>\n",
       "  </tbody>\n",
       "</table>\n",
       "</div>"
      ],
      "text/plain": [
       "    id              title                               release  \\\n",
       "id                                                                \n",
       "1    1       Silent Night                 Monster Ballads X-Mas   \n",
       "2    2        Tanssi vaan                           Karkuteillä   \n",
       "3    3  No One Could Ever                                Butter   \n",
       "4    4      Si Vos Querés                               De Culo   \n",
       "5    5   Tangle Of Aspens  Rene Ablaze Presents Winter Sessions   \n",
       "\n",
       "         artist_name   duration  artist_familiarity  artist_hotttnesss  year  \n",
       "id                                                                            \n",
       "1   Faster Pussy cat  252.05506            0.649822           0.394032  2003  \n",
       "2   Karkkiautomaatti  156.55138            0.439604           0.356992  1995  \n",
       "3     Hudson Mohawke  138.97098            0.643681           0.437504  2006  \n",
       "4        Yerba Brava  145.05751            0.448501           0.372349  2003  \n",
       "5         Der Mystic  514.29832            0.000000           0.000000     0  "
      ]
     },
     "execution_count": 80,
     "metadata": {},
     "output_type": "execute_result"
    }
   ],
   "source": [
    "X.head()"
   ]
  },
  {
   "cell_type": "code",
   "execution_count": null,
   "metadata": {
    "collapsed": true
   },
   "outputs": [],
   "source": []
  }
 ],
 "metadata": {
  "kernelspec": {
   "display_name": "Python 2",
   "language": "python",
   "name": "python2"
  },
  "language_info": {
   "codemirror_mode": {
    "name": "ipython",
    "version": 2
   },
   "file_extension": ".py",
   "mimetype": "text/x-python",
   "name": "python",
   "nbconvert_exporter": "python",
   "pygments_lexer": "ipython2",
   "version": "2.7.13"
  }
 },
 "nbformat": 4,
 "nbformat_minor": 2
}
