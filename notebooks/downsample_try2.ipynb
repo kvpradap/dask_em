{
 "cells": [
  {
   "cell_type": "code",
   "execution_count": 1,
   "metadata": {
    "collapsed": true
   },
   "outputs": [],
   "source": [
    "import pandas as pd"
   ]
  },
  {
   "cell_type": "code",
   "execution_count": 2,
   "metadata": {
    "collapsed": true
   },
   "outputs": [],
   "source": [
    "import dask\n",
    "import dask.dataframe as dd\n",
    "from dask import delayed\n",
    "import sys\n",
    "sys.path.append('/Users/pradap/Documents/Research/Python-Package/scaling/dask_em')\n"
   ]
  },
  {
   "cell_type": "code",
   "execution_count": 3,
   "metadata": {
    "collapsed": true
   },
   "outputs": [],
   "source": [
    "from dask_em.sampler.downsample.downsample import downsample_dd\n"
   ]
  },
  {
   "cell_type": "code",
   "execution_count": 4,
   "metadata": {},
   "outputs": [
    {
     "data": {
      "text/html": [
       "<div><strong>Dask DataFrame Structure:</strong></div>\n",
       "<div>\n",
       "<style>\n",
       "    .dataframe thead tr:only-child th {\n",
       "        text-align: right;\n",
       "    }\n",
       "\n",
       "    .dataframe thead th {\n",
       "        text-align: left;\n",
       "    }\n",
       "\n",
       "    .dataframe tbody tr th {\n",
       "        vertical-align: top;\n",
       "    }\n",
       "</style>\n",
       "<table border=\"1\" class=\"dataframe\">\n",
       "  <thead>\n",
       "    <tr style=\"text-align: right;\">\n",
       "      <th></th>\n",
       "      <th>title</th>\n",
       "      <th>release</th>\n",
       "      <th>artist_name</th>\n",
       "      <th>duration</th>\n",
       "      <th>artist_familiarity</th>\n",
       "      <th>artist_hotttnesss</th>\n",
       "      <th>year</th>\n",
       "    </tr>\n",
       "    <tr>\n",
       "      <th>npartitions=1</th>\n",
       "      <th></th>\n",
       "      <th></th>\n",
       "      <th></th>\n",
       "      <th></th>\n",
       "      <th></th>\n",
       "      <th></th>\n",
       "      <th></th>\n",
       "    </tr>\n",
       "  </thead>\n",
       "  <tbody>\n",
       "    <tr>\n",
       "      <th>2</th>\n",
       "      <td>object</td>\n",
       "      <td>object</td>\n",
       "      <td>object</td>\n",
       "      <td>float64</td>\n",
       "      <td>float64</td>\n",
       "      <td>float64</td>\n",
       "      <td>int64</td>\n",
       "    </tr>\n",
       "    <tr>\n",
       "      <th>1000000</th>\n",
       "      <td>...</td>\n",
       "      <td>...</td>\n",
       "      <td>...</td>\n",
       "      <td>...</td>\n",
       "      <td>...</td>\n",
       "      <td>...</td>\n",
       "      <td>...</td>\n",
       "    </tr>\n",
       "  </tbody>\n",
       "</table>\n",
       "</div>\n",
       "<div>Dask Name: sort_index, 5 tasks</div>"
      ],
      "text/plain": [
       "Dask DataFrame Structure:\n",
       "                title release artist_name duration artist_familiarity artist_hotttnesss   year\n",
       "npartitions=1                                                                                 \n",
       "2              object  object      object  float64            float64           float64  int64\n",
       "1000000           ...     ...         ...      ...                ...               ...    ...\n",
       "Dask Name: sort_index, 5 tasks"
      ]
     },
     "execution_count": 4,
     "metadata": {},
     "output_type": "execute_result"
    }
   ],
   "source": [
    "path = '../datasets/'\n",
    "A = dd.read_csv(path+'sample_msd.csv')\n",
    "B = dd.read_csv(path+'sample_msd.csv')\n",
    "A.set_index('id')\n",
    "B.set_index('id')"
   ]
  },
  {
   "cell_type": "code",
   "execution_count": 13,
   "metadata": {
    "collapsed": true
   },
   "outputs": [],
   "source": [
    "import string\n",
    "\n",
    "import pandas as pd\n",
    "from dask import threaded, delayed\n",
    "from dask_em.sampler.downsample.dsprober import DownSampleProber\n",
    "from dask import dataframe as dd\n",
    "\n",
    "from dask_em.utils.cy_utils.stringcontainer import StringContainer\n",
    "from dask_em.utils.py_utils.utils import get_str_cols, str2bytes, sample, split_df, \\\n",
    "    tokenize_strings_wsp, build_inv_index\n",
    "\n",
    "# helper functions\n",
    "def preprocess_table(dataframe, idcol):\n",
    "    strcols = list(get_str_cols(dataframe))\n",
    "    strcols.append(idcol)\n",
    "    projdf = dataframe[strcols]\n",
    "    objsc = StringContainer()\n",
    "    for row in projdf.itertuples():\n",
    "        colvalues = row[1:-1]\n",
    "        uid = row[-1]\n",
    "        strings = [colvalue.strip() for colvalue in colvalues if not pd.isnull(colvalue)]\n",
    "        concat_row = str2bytes(' '.join(strings).lower())\n",
    "        concat_row = concat_row.translate(None, string.punctuation)\n",
    "        objsc.push_back(uid, concat_row)\n",
    "    return objsc\n",
    "\n",
    "def probe(objtc, objinvindex, yparam):\n",
    "    objprobe = DownSampleProber()\n",
    "    objprobe.probe(objtc, objinvindex, yparam)\n",
    "    return objprobe\n",
    "\n",
    "def lpostprocess(result_list):\n",
    "    lids = set()\n",
    "    for i in range(len(result_list)):\n",
    "        result = result_list[i]\n",
    "        lids.update(result.get_lids())\n",
    "    lids = sorted(lids)\n",
    "    return lids\n",
    "\n",
    "\n",
    "def rpostprocess(result_list):\n",
    "    rids = set()\n",
    "    for i in range(len(result_list)):\n",
    "        result = result_list[i]\n",
    "        rids.update(result.get_rids())\n",
    "    rids = sorted(rids)\n",
    "    return rids\n",
    "\n",
    "\n",
    "def select(table, ids):\n",
    "    return table.loc[ids]\n",
    "\n",
    "def get_meta(table):\n",
    "    vals = []\n",
    "    for col in table.columns:\n",
    "        if table[col].dtype == 'int64':\n",
    "            vals.append(0)\n",
    "        elif table[col].dtype == 'float64':\n",
    "            vals.append(0.0)\n",
    "        elif table[col].dtype == 'bool':\n",
    "            vals.append(False)\n",
    "        elif table[col].dtype == 'object':\n",
    "            vals.append('')\n",
    "        else:\n",
    "            raise ValueError(col)\n",
    "    result = [tuple(vals)]\n",
    "    meta = pd.DataFrame(result, columns=list(table.columns))\n",
    "    return meta"
   ]
  },
  {
   "cell_type": "code",
   "execution_count": 16,
   "metadata": {
    "collapsed": true
   },
   "outputs": [],
   "source": [
    "lstopwords = ['the', 'of', 'in', 'and', 'version', 'and', 'to', 'you', 'i', 'love', 'me', 'album', 'live', 'my', 'on', 'for', 'de', 'it', 'best', 'is', 'la', 'vol', 'from', 'no', 'your', 'all']\n",
    "\n",
    "rstopwords = lstopwords\n",
    "stopwords = ['a', 'an', 'and', 'are', 'as', 'at', 'be', 'by', 'for', 'from', 'has', 'he', 'in', 'is', 'it', 'its', 'on', 'that', 'the', 'to', 'of', 'was', 'were', 'will', 'with']\n",
    "\n",
    "# stopwords\n",
    "\n",
    "\n",
    "lstopwords = lstopwords + stopwords\n",
    "rstopwords = rstopwords + stopwords\n",
    "\n",
    "fraction = 0.01\n",
    "y = 1"
   ]
  },
  {
   "cell_type": "code",
   "execution_count": 17,
   "metadata": {},
   "outputs": [
    {
     "name": "stdout",
     "output_type": "stream",
     "text": [
      "[########################################] | 100% Completed |  0.5s\n"
     ]
    }
   ],
   "source": [
    "    ltokens = []\n",
    "    for i in range(ltable.npartitions):\n",
    "        lcat_strings = (delayed)(preprocess_table)(ltable.get_partition(i), lid)\n",
    "        tokens = (delayed)(tokenize_strings_wsp)(lcat_strings, lstopwords)\n",
    "        ltokens.append(tokens)\n",
    "\n",
    "    invindex = (delayed)(build_inv_index)(ltokens)\n",
    "    rsample = rtable.sample(fraction, random_state=0)\n",
    "    rsample.set_index(rid)\n",
    "\n",
    "    probe_rslts = []\n",
    "    for i in range(rsample.npartitions):\n",
    "        rcat_strings = (delayed)(preprocess_table)(rsample.get_partition(i), rid)\n",
    "        rtokens = (delayed)(tokenize_strings_wsp)(rcat_strings, rstopwords)\n",
    "        probe_rslt = (delayed)(probe)(rtokens, invindex, y)\n",
    "        probe_rslts.append(probe_rslt)\n"
   ]
  },
  {
   "cell_type": "code",
   "execution_count": 18,
   "metadata": {
    "collapsed": true
   },
   "outputs": [],
   "source": [
    "rresult = (delayed)(rpostprocess)(probe_rslts)"
   ]
  },
  {
   "cell_type": "code",
   "execution_count": 19,
   "metadata": {},
   "outputs": [
    {
     "name": "stdout",
     "output_type": "stream",
     "text": [
      "[########################################] | 100% Completed |  2.9s\n"
     ]
    }
   ],
   "source": [
    "tt = rresult.compute()"
   ]
  },
  {
   "cell_type": "code",
   "execution_count": 21,
   "metadata": {},
   "outputs": [
    {
     "data": {
      "text/plain": [
       "1000"
      ]
     },
     "execution_count": 21,
     "metadata": {},
     "output_type": "execute_result"
    }
   ],
   "source": [
    "len(tt)"
   ]
  },
  {
   "cell_type": "code",
   "execution_count": 23,
   "metadata": {},
   "outputs": [],
   "source": [
    "tt = (delayed)(select)(rtable, rresult)"
   ]
  },
  {
   "cell_type": "code",
   "execution_count": 24,
   "metadata": {},
   "outputs": [
    {
     "name": "stdout",
     "output_type": "stream",
     "text": [
      "[########################################] | 100% Completed |  3.1s\n"
     ]
    }
   ],
   "source": [
    "tt1 = tt.compute()"
   ]
  },
  {
   "cell_type": "code",
   "execution_count": 25,
   "metadata": {},
   "outputs": [
    {
     "data": {
      "text/html": [
       "<div>\n",
       "<style>\n",
       "    .dataframe thead tr:only-child th {\n",
       "        text-align: right;\n",
       "    }\n",
       "\n",
       "    .dataframe thead th {\n",
       "        text-align: left;\n",
       "    }\n",
       "\n",
       "    .dataframe tbody tr th {\n",
       "        vertical-align: top;\n",
       "    }\n",
       "</style>\n",
       "<table border=\"1\" class=\"dataframe\">\n",
       "  <thead>\n",
       "    <tr style=\"text-align: right;\">\n",
       "      <th></th>\n",
       "      <th>id</th>\n",
       "      <th>title</th>\n",
       "      <th>release</th>\n",
       "      <th>artist_name</th>\n",
       "      <th>duration</th>\n",
       "      <th>artist_familiarity</th>\n",
       "      <th>artist_hotttnesss</th>\n",
       "      <th>year</th>\n",
       "    </tr>\n",
       "  </thead>\n",
       "  <tbody>\n",
       "    <tr>\n",
       "      <th>35</th>\n",
       "      <td>900739.0</td>\n",
       "      <td>Good Things</td>\n",
       "      <td>The Real Rock</td>\n",
       "      <td>Shinehead</td>\n",
       "      <td>244.03546</td>\n",
       "      <td>0.529103</td>\n",
       "      <td>0.411364</td>\n",
       "      <td>0.0</td>\n",
       "    </tr>\n",
       "    <tr>\n",
       "      <th>127</th>\n",
       "      <td>196518.0</td>\n",
       "      <td>Choo Choo</td>\n",
       "      <td>Euro Party</td>\n",
       "      <td>London MC</td>\n",
       "      <td>247.90159</td>\n",
       "      <td>0.426840</td>\n",
       "      <td>0.334134</td>\n",
       "      <td>2008.0</td>\n",
       "    </tr>\n",
       "    <tr>\n",
       "      <th>237</th>\n",
       "      <td>351568.0</td>\n",
       "      <td>Duh Duh Da (Next Generation Mix)</td>\n",
       "      <td>The Next Generation</td>\n",
       "      <td>Lidell Townsell</td>\n",
       "      <td>185.86077</td>\n",
       "      <td>0.431622</td>\n",
       "      <td>0.307084</td>\n",
       "      <td>0.0</td>\n",
       "    </tr>\n",
       "    <tr>\n",
       "      <th>560</th>\n",
       "      <td>238300.0</td>\n",
       "      <td>3 Mad P's</td>\n",
       "      <td>3 Mad P's/Experience/In Motion</td>\n",
       "      <td>Headhunter</td>\n",
       "      <td>421.14567</td>\n",
       "      <td>0.607734</td>\n",
       "      <td>0.448453</td>\n",
       "      <td>0.0</td>\n",
       "    </tr>\n",
       "    <tr>\n",
       "      <th>718</th>\n",
       "      <td>493367.0</td>\n",
       "      <td>We Gotta Get Together</td>\n",
       "      <td>80.81</td>\n",
       "      <td>The Right Ons</td>\n",
       "      <td>293.95546</td>\n",
       "      <td>0.558117</td>\n",
       "      <td>0.474894</td>\n",
       "      <td>2007.0</td>\n",
       "    </tr>\n",
       "  </tbody>\n",
       "</table>\n",
       "</div>"
      ],
      "text/plain": [
       "           id                             title  \\\n",
       "35   900739.0                       Good Things   \n",
       "127  196518.0                         Choo Choo   \n",
       "237  351568.0  Duh Duh Da (Next Generation Mix)   \n",
       "560  238300.0                         3 Mad P's   \n",
       "718  493367.0             We Gotta Get Together   \n",
       "\n",
       "                            release      artist_name   duration  \\\n",
       "35                    The Real Rock        Shinehead  244.03546   \n",
       "127                      Euro Party        London MC  247.90159   \n",
       "237             The Next Generation  Lidell Townsell  185.86077   \n",
       "560  3 Mad P's/Experience/In Motion       Headhunter  421.14567   \n",
       "718                           80.81    The Right Ons  293.95546   \n",
       "\n",
       "     artist_familiarity  artist_hotttnesss    year  \n",
       "35             0.529103           0.411364     0.0  \n",
       "127            0.426840           0.334134  2008.0  \n",
       "237            0.431622           0.307084     0.0  \n",
       "560            0.607734           0.448453     0.0  \n",
       "718            0.558117           0.474894  2007.0  "
      ]
     },
     "execution_count": 25,
     "metadata": {},
     "output_type": "execute_result"
    }
   ],
   "source": [
    "tt1.head()"
   ]
  },
  {
   "cell_type": "code",
   "execution_count": 5,
   "metadata": {},
   "outputs": [],
   "source": [
    "lstopwords = ['the', 'of', 'in', 'and', 'version', 'and', 'to', 'you', 'i', 'love', 'me', 'album', 'live', 'my', 'on', 'for', 'de', 'it', 'best', 'is', 'la', 'vol', 'from', 'no', 'your', 'all']\n",
    "\n",
    "rstopwords = lstopwords\n",
    "stopwords = ['a', 'an', 'and', 'are', 'as', 'at', 'be', 'by', 'for', 'from', 'has', 'he', 'in', 'is', 'it', 'its', 'on', 'that', 'the', 'to', 'of', 'was', 'were', 'will', 'with']\n",
    "\n",
    "# stopwords\n",
    "\n",
    "\n",
    "lstopwords = lstopwords + stopwords\n",
    "rstopwords = rstopwords + stopwords\n",
    "\n",
    "A1, B1 = downsample_dd(A, B, 'id', 'id', 0.1, 1,lstopwords=lstopwords, rstopwords=rstopwords)"
   ]
  },
  {
   "cell_type": "code",
   "execution_count": 6,
   "metadata": {
    "collapsed": true
   },
   "outputs": [],
   "source": [
    "from dask.diagnostics import *"
   ]
  },
  {
   "cell_type": "code",
   "execution_count": 7,
   "metadata": {
    "collapsed": true
   },
   "outputs": [],
   "source": [
    "pbar = ProgressBar()\n",
    "pbar.register()"
   ]
  },
  {
   "cell_type": "code",
   "execution_count": 10,
   "metadata": {},
   "outputs": [],
   "source": [
    "from distributed import Client"
   ]
  },
  {
   "cell_type": "code",
   "execution_count": 14,
   "metadata": {
    "collapsed": true
   },
   "outputs": [],
   "source": [
    "from distributed.diagnostics import progress"
   ]
  },
  {
   "cell_type": "code",
   "execution_count": 11,
   "metadata": {
    "collapsed": true
   },
   "outputs": [],
   "source": [
    "client = Client()"
   ]
  },
  {
   "cell_type": "code",
   "execution_count": 17,
   "metadata": {},
   "outputs": [
    {
     "data": {
      "text/html": [
       "<div><strong>Dask DataFrame Structure:</strong></div>\n",
       "<div>\n",
       "<style>\n",
       "    .dataframe thead tr:only-child th {\n",
       "        text-align: right;\n",
       "    }\n",
       "\n",
       "    .dataframe thead th {\n",
       "        text-align: left;\n",
       "    }\n",
       "\n",
       "    .dataframe tbody tr th {\n",
       "        vertical-align: top;\n",
       "    }\n",
       "</style>\n",
       "<table border=\"1\" class=\"dataframe\">\n",
       "  <thead>\n",
       "    <tr style=\"text-align: right;\">\n",
       "      <th></th>\n",
       "      <th>id</th>\n",
       "      <th>title</th>\n",
       "      <th>release</th>\n",
       "      <th>artist_name</th>\n",
       "      <th>duration</th>\n",
       "      <th>artist_familiarity</th>\n",
       "      <th>artist_hotttnesss</th>\n",
       "      <th>year</th>\n",
       "    </tr>\n",
       "    <tr>\n",
       "      <th>npartitions=1</th>\n",
       "      <th></th>\n",
       "      <th></th>\n",
       "      <th></th>\n",
       "      <th></th>\n",
       "      <th></th>\n",
       "      <th></th>\n",
       "      <th></th>\n",
       "      <th></th>\n",
       "    </tr>\n",
       "  </thead>\n",
       "  <tbody>\n",
       "    <tr>\n",
       "      <th>None</th>\n",
       "      <td>int64</td>\n",
       "      <td>object</td>\n",
       "      <td>object</td>\n",
       "      <td>object</td>\n",
       "      <td>float64</td>\n",
       "      <td>float64</td>\n",
       "      <td>float64</td>\n",
       "      <td>int64</td>\n",
       "    </tr>\n",
       "    <tr>\n",
       "      <th>None</th>\n",
       "      <td>...</td>\n",
       "      <td>...</td>\n",
       "      <td>...</td>\n",
       "      <td>...</td>\n",
       "      <td>...</td>\n",
       "      <td>...</td>\n",
       "      <td>...</td>\n",
       "      <td>...</td>\n",
       "    </tr>\n",
       "  </tbody>\n",
       "</table>\n",
       "</div>\n",
       "<div>Dask Name: from-delayed, 1 tasks</div>"
      ],
      "text/plain": [
       "Dask DataFrame Structure:\n",
       "                  id   title release artist_name duration artist_familiarity artist_hotttnesss   year\n",
       "npartitions=1                                                                                        \n",
       "None           int64  object  object      object  float64            float64           float64  int64\n",
       "None             ...     ...     ...         ...      ...                ...               ...    ...\n",
       "Dask Name: from-delayed, 1 tasks"
      ]
     },
     "execution_count": 17,
     "metadata": {},
     "output_type": "execute_result"
    }
   ],
   "source": [
    "B1.persist()"
   ]
  },
  {
   "cell_type": "code",
   "execution_count": 18,
   "metadata": {
    "collapsed": true
   },
   "outputs": [],
   "source": [
    "C1 = B1.compute()"
   ]
  },
  {
   "cell_type": "code",
   "execution_count": 19,
   "metadata": {},
   "outputs": [
    {
     "data": {
      "text/html": [
       "<div>\n",
       "<style>\n",
       "    .dataframe thead tr:only-child th {\n",
       "        text-align: right;\n",
       "    }\n",
       "\n",
       "    .dataframe thead th {\n",
       "        text-align: left;\n",
       "    }\n",
       "\n",
       "    .dataframe tbody tr th {\n",
       "        vertical-align: top;\n",
       "    }\n",
       "</style>\n",
       "<table border=\"1\" class=\"dataframe\">\n",
       "  <thead>\n",
       "    <tr style=\"text-align: right;\">\n",
       "      <th></th>\n",
       "      <th>id</th>\n",
       "      <th>title</th>\n",
       "      <th>release</th>\n",
       "      <th>artist_name</th>\n",
       "      <th>duration</th>\n",
       "      <th>artist_familiarity</th>\n",
       "      <th>artist_hotttnesss</th>\n",
       "      <th>year</th>\n",
       "    </tr>\n",
       "  </thead>\n",
       "  <tbody>\n",
       "    <tr>\n",
       "      <th>2</th>\n",
       "      <td>681317.0</td>\n",
       "      <td>Flying in the sky (feat. Feat. Ange Vocal Mix)</td>\n",
       "      <td>Flying In the Sky (Original mix)</td>\n",
       "      <td>Channel One</td>\n",
       "      <td>432.95302</td>\n",
       "      <td>0.531467</td>\n",
       "      <td>0.324757</td>\n",
       "      <td>0.0</td>\n",
       "    </tr>\n",
       "    <tr>\n",
       "      <th>35</th>\n",
       "      <td>900739.0</td>\n",
       "      <td>Good Things</td>\n",
       "      <td>The Real Rock</td>\n",
       "      <td>Shinehead</td>\n",
       "      <td>244.03546</td>\n",
       "      <td>0.529103</td>\n",
       "      <td>0.411364</td>\n",
       "      <td>0.0</td>\n",
       "    </tr>\n",
       "    <tr>\n",
       "      <th>127</th>\n",
       "      <td>196518.0</td>\n",
       "      <td>Choo Choo</td>\n",
       "      <td>Euro Party</td>\n",
       "      <td>London MC</td>\n",
       "      <td>247.90159</td>\n",
       "      <td>0.426840</td>\n",
       "      <td>0.334134</td>\n",
       "      <td>2008.0</td>\n",
       "    </tr>\n",
       "    <tr>\n",
       "      <th>237</th>\n",
       "      <td>351568.0</td>\n",
       "      <td>Duh Duh Da (Next Generation Mix)</td>\n",
       "      <td>The Next Generation</td>\n",
       "      <td>Lidell Townsell</td>\n",
       "      <td>185.86077</td>\n",
       "      <td>0.431622</td>\n",
       "      <td>0.307084</td>\n",
       "      <td>0.0</td>\n",
       "    </tr>\n",
       "    <tr>\n",
       "      <th>291</th>\n",
       "      <td>851695.0</td>\n",
       "      <td>Martin</td>\n",
       "      <td>Call To Arms</td>\n",
       "      <td>Sick Of It All</td>\n",
       "      <td>166.86975</td>\n",
       "      <td>0.690626</td>\n",
       "      <td>0.420802</td>\n",
       "      <td>1999.0</td>\n",
       "    </tr>\n",
       "  </tbody>\n",
       "</table>\n",
       "</div>"
      ],
      "text/plain": [
       "           id                                           title  \\\n",
       "2    681317.0  Flying in the sky (feat. Feat. Ange Vocal Mix)   \n",
       "35   900739.0                                     Good Things   \n",
       "127  196518.0                                       Choo Choo   \n",
       "237  351568.0                Duh Duh Da (Next Generation Mix)   \n",
       "291  851695.0                                          Martin   \n",
       "\n",
       "                              release      artist_name   duration  \\\n",
       "2    Flying In the Sky (Original mix)      Channel One  432.95302   \n",
       "35                      The Real Rock        Shinehead  244.03546   \n",
       "127                        Euro Party        London MC  247.90159   \n",
       "237               The Next Generation  Lidell Townsell  185.86077   \n",
       "291                      Call To Arms   Sick Of It All  166.86975   \n",
       "\n",
       "     artist_familiarity  artist_hotttnesss    year  \n",
       "2              0.531467           0.324757     0.0  \n",
       "35             0.529103           0.411364     0.0  \n",
       "127            0.426840           0.334134  2008.0  \n",
       "237            0.431622           0.307084     0.0  \n",
       "291            0.690626           0.420802  1999.0  "
      ]
     },
     "execution_count": 19,
     "metadata": {},
     "output_type": "execute_result"
    }
   ],
   "source": [
    "B1.head()"
   ]
  }
 ],
 "metadata": {
  "kernelspec": {
   "display_name": "Python 2",
   "language": "python",
   "name": "python2"
  },
  "language_info": {
   "codemirror_mode": {
    "name": "ipython",
    "version": 2
   },
   "file_extension": ".py",
   "mimetype": "text/x-python",
   "name": "python",
   "nbconvert_exporter": "python",
   "pygments_lexer": "ipython2",
   "version": "2.7.13"
  }
 },
 "nbformat": 4,
 "nbformat_minor": 2
}
